{
 "cells": [
  {
   "cell_type": "code",
   "execution_count": 5,
   "metadata": {},
   "outputs": [
    {
     "name": "stdout",
     "output_type": "stream",
     "text": [
      "17 24  1  8 15\n",
      "23  5  7 14 16\n",
      " 4  6 13 20 22\n",
      "10 12 19 21  3\n",
      "11 18 25  2  9\n"
     ]
    }
   ],
   "source": [
    "def siamese_magic_square(n):\n",
    "    if n % 2 == 0:\n",
    "        raise ValueError(\"Siamese method only works for odd n\")\n",
    "\n",
    "    square = [[0] * n for _ in range(n)]\n",
    "    \n",
    "    i, j = 0, n // 2\n",
    "    \n",
    "    for num in range(1, n * n + 1):\n",
    "        square[i][j] = num\n",
    "        next_i, next_j = (i - 1) % n, (j + 1) % n\n",
    "        if square[next_i][next_j]:\n",
    "            i = (i + 1) % n\n",
    "        else:\n",
    "            i, j = next_i, next_j\n",
    "    return square\n",
    "\n",
    "\n",
    "def print_square(square):\n",
    "    for row in square:\n",
    "        print(\" \".join(f\"{num:2}\" for num in row))\n",
    "\n",
    "# Example: 5x5 magic square\n",
    "magic = siamese_magic_square(5)\n",
    "print_square(magic)\n"
   ]
  }
 ],
 "metadata": {
  "kernelspec": {
   "display_name": "venv",
   "language": "python",
   "name": "python3"
  },
  "language_info": {
   "codemirror_mode": {
    "name": "ipython",
    "version": 3
   },
   "file_extension": ".py",
   "mimetype": "text/x-python",
   "name": "python",
   "nbconvert_exporter": "python",
   "pygments_lexer": "ipython3",
   "version": "3.13.2"
  }
 },
 "nbformat": 4,
 "nbformat_minor": 2
}
